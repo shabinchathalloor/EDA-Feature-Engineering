{
 "cells": [
  {
   "cell_type": "markdown",
   "id": "4dc1064b",
   "metadata": {},
   "source": [
    "### 1. pandas_profiling"
   ]
  },
  {
   "cell_type": "code",
   "execution_count": 1,
   "id": "38b08c8a",
   "metadata": {},
   "outputs": [
    {
     "name": "stdout",
     "output_type": "stream",
     "text": [
      "Collecting pandas_profiling\n",
      "  Downloading pandas_profiling-3.4.0-py2.py3-none-any.whl (315 kB)\n",
      "Requirement already satisfied: tqdm<4.65,>=4.48.2 in c:\\users\\chitchat\\anaconda3\\lib\\site-packages (from pandas_profiling) (4.59.0)\n",
      "Collecting htmlmin==0.1.12\n",
      "  Downloading htmlmin-0.1.12.tar.gz (19 kB)\n",
      "Collecting multimethod<1.10,>=1.4\n",
      "  Downloading multimethod-1.9-py3-none-any.whl (10 kB)\n",
      "Collecting pydantic<1.11,>=1.8.1\n",
      "  Downloading pydantic-1.10.2-cp38-cp38-win_amd64.whl (2.2 MB)\n",
      "Collecting statsmodels<0.14,>=0.13.2\n",
      "  Downloading statsmodels-0.13.5-cp38-cp38-win_amd64.whl (9.2 MB)\n",
      "Collecting phik<0.13,>=0.11.1\n",
      "  Downloading phik-0.12.2-cp38-cp38-win_amd64.whl (677 kB)\n",
      "Requirement already satisfied: jinja2<3.2,>=2.11.1 in c:\\users\\chitchat\\anaconda3\\lib\\site-packages (from pandas_profiling) (2.11.3)\n",
      "Requirement already satisfied: numpy<1.24,>=1.16.0 in c:\\users\\chitchat\\anaconda3\\lib\\site-packages (from pandas_profiling) (1.20.1)\n",
      "Requirement already satisfied: matplotlib<3.6,>=3.2 in c:\\users\\chitchat\\anaconda3\\lib\\site-packages (from pandas_profiling) (3.3.4)\n",
      "Requirement already satisfied: scipy<1.10,>=1.4.1 in c:\\users\\chitchat\\anaconda3\\lib\\site-packages (from pandas_profiling) (1.6.2)\n",
      "Collecting missingno<0.6,>=0.4.2\n",
      "  Downloading missingno-0.5.1-py3-none-any.whl (8.7 kB)\n",
      "Requirement already satisfied: PyYAML<6.1,>=5.0.0 in c:\\users\\chitchat\\anaconda3\\lib\\site-packages (from pandas_profiling) (5.4.1)\n",
      "Collecting visions[type_image_path]==0.7.5\n",
      "  Downloading visions-0.7.5-py3-none-any.whl (102 kB)\n",
      "Requirement already satisfied: seaborn<0.13,>=0.10.1 in c:\\users\\chitchat\\anaconda3\\lib\\site-packages (from pandas_profiling) (0.11.1)\n",
      "Requirement already satisfied: pandas!=1.4.0,<1.6,>1.1 in c:\\users\\chitchat\\anaconda3\\lib\\site-packages (from pandas_profiling) (1.2.4)\n",
      "Requirement already satisfied: requests<2.29,>=2.24.0 in c:\\users\\chitchat\\anaconda3\\lib\\site-packages (from pandas_profiling) (2.25.1)\n",
      "Collecting tangled-up-in-unicode>=0.0.4\n",
      "  Downloading tangled_up_in_unicode-0.2.0-py3-none-any.whl (4.7 MB)\n",
      "Requirement already satisfied: attrs>=19.3.0 in c:\\users\\chitchat\\anaconda3\\lib\\site-packages (from visions[type_image_path]==0.7.5->pandas_profiling) (20.3.0)\n",
      "Requirement already satisfied: networkx>=2.4 in c:\\users\\chitchat\\anaconda3\\lib\\site-packages (from visions[type_image_path]==0.7.5->pandas_profiling) (2.5)\n",
      "Collecting imagehash\n",
      "  Downloading ImageHash-4.3.1-py2.py3-none-any.whl (296 kB)\n",
      "Requirement already satisfied: Pillow in c:\\users\\chitchat\\anaconda3\\lib\\site-packages (from visions[type_image_path]==0.7.5->pandas_profiling) (8.2.0)\n",
      "Requirement already satisfied: MarkupSafe>=0.23 in c:\\users\\chitchat\\anaconda3\\lib\\site-packages (from jinja2<3.2,>=2.11.1->pandas_profiling) (1.1.1)\n",
      "Requirement already satisfied: cycler>=0.10 in c:\\users\\chitchat\\anaconda3\\lib\\site-packages (from matplotlib<3.6,>=3.2->pandas_profiling) (0.10.0)\n",
      "Requirement already satisfied: python-dateutil>=2.1 in c:\\users\\chitchat\\anaconda3\\lib\\site-packages (from matplotlib<3.6,>=3.2->pandas_profiling) (2.8.1)\n",
      "Requirement already satisfied: kiwisolver>=1.0.1 in c:\\users\\chitchat\\anaconda3\\lib\\site-packages (from matplotlib<3.6,>=3.2->pandas_profiling) (1.3.1)\n",
      "Requirement already satisfied: pyparsing!=2.0.4,!=2.1.2,!=2.1.6,>=2.0.3 in c:\\users\\chitchat\\anaconda3\\lib\\site-packages (from matplotlib<3.6,>=3.2->pandas_profiling) (2.4.7)\n",
      "Requirement already satisfied: six in c:\\users\\chitchat\\anaconda3\\lib\\site-packages (from cycler>=0.10->matplotlib<3.6,>=3.2->pandas_profiling) (1.15.0)\n",
      "Requirement already satisfied: decorator>=4.3.0 in c:\\users\\chitchat\\anaconda3\\lib\\site-packages (from networkx>=2.4->visions[type_image_path]==0.7.5->pandas_profiling) (5.0.6)\n",
      "Requirement already satisfied: pytz>=2017.3 in c:\\users\\chitchat\\anaconda3\\lib\\site-packages (from pandas!=1.4.0,<1.6,>1.1->pandas_profiling) (2021.1)\n",
      "Requirement already satisfied: joblib>=0.14.1 in c:\\users\\chitchat\\anaconda3\\lib\\site-packages (from phik<0.13,>=0.11.1->pandas_profiling) (1.0.1)\n",
      "Collecting typing-extensions>=4.1.0\n",
      "  Downloading typing_extensions-4.4.0-py3-none-any.whl (26 kB)\n",
      "Requirement already satisfied: idna<3,>=2.5 in c:\\users\\chitchat\\anaconda3\\lib\\site-packages (from requests<2.29,>=2.24.0->pandas_profiling) (2.10)\n",
      "Requirement already satisfied: urllib3<1.27,>=1.21.1 in c:\\users\\chitchat\\anaconda3\\lib\\site-packages (from requests<2.29,>=2.24.0->pandas_profiling) (1.26.4)\n",
      "Requirement already satisfied: certifi>=2017.4.17 in c:\\users\\chitchat\\anaconda3\\lib\\site-packages (from requests<2.29,>=2.24.0->pandas_profiling) (2020.12.5)\n",
      "Requirement already satisfied: chardet<5,>=3.0.2 in c:\\users\\chitchat\\anaconda3\\lib\\site-packages (from requests<2.29,>=2.24.0->pandas_profiling) (4.0.0)\n",
      "Collecting patsy>=0.5.2\n",
      "  Downloading patsy-0.5.3-py2.py3-none-any.whl (233 kB)\n",
      "Collecting packaging>=21.3\n",
      "  Downloading packaging-21.3-py3-none-any.whl (40 kB)\n",
      "Requirement already satisfied: PyWavelets in c:\\users\\chitchat\\anaconda3\\lib\\site-packages (from imagehash->visions[type_image_path]==0.7.5->pandas_profiling) (1.1.1)\n",
      "Building wheels for collected packages: htmlmin\n",
      "  Building wheel for htmlmin (setup.py): started\n",
      "  Building wheel for htmlmin (setup.py): finished with status 'done'\n",
      "  Created wheel for htmlmin: filename=htmlmin-0.1.12-py3-none-any.whl size=27085 sha256=21e6fc3fee3f581893e866ddccdb2493eca5413b622562e840829ff93855284e\n",
      "  Stored in directory: c:\\users\\chitchat\\appdata\\local\\pip\\cache\\wheels\\23\\14\\6e\\4be5bfeeb027f4939a01764b48edd5996acf574b0913fe5243\n",
      "Successfully built htmlmin\n",
      "Installing collected packages: tangled-up-in-unicode, multimethod, visions, typing-extensions, patsy, packaging, imagehash, statsmodels, pydantic, phik, missingno, htmlmin, pandas-profiling\n",
      "  Attempting uninstall: typing-extensions\n",
      "    Found existing installation: typing-extensions 3.7.4.3\n",
      "    Uninstalling typing-extensions-3.7.4.3:\n",
      "      Successfully uninstalled typing-extensions-3.7.4.3\n",
      "  Attempting uninstall: patsy\n",
      "    Found existing installation: patsy 0.5.1\n",
      "    Uninstalling patsy-0.5.1:\n",
      "      Successfully uninstalled patsy-0.5.1\n",
      "  Attempting uninstall: packaging\n",
      "    Found existing installation: packaging 20.9\n",
      "    Uninstalling packaging-20.9:\n",
      "      Successfully uninstalled packaging-20.9\n",
      "  Attempting uninstall: statsmodels\n",
      "    Found existing installation: statsmodels 0.12.2\n",
      "    Uninstalling statsmodels-0.12.2:\n",
      "      Successfully uninstalled statsmodels-0.12.2\n",
      "Successfully installed htmlmin-0.1.12 imagehash-4.3.1 missingno-0.5.1 multimethod-1.9 packaging-21.3 pandas-profiling-3.4.0 patsy-0.5.3 phik-0.12.2 pydantic-1.10.2 statsmodels-0.13.5 tangled-up-in-unicode-0.2.0 typing-extensions-4.4.0 visions-0.7.5\n"
     ]
    }
   ],
   "source": [
    "!pip install pandas_profiling"
   ]
  },
  {
   "cell_type": "code",
   "execution_count": 2,
   "id": "7344f4cb",
   "metadata": {},
   "outputs": [],
   "source": [
    "import pandas_profiling"
   ]
  },
  {
   "cell_type": "code",
   "execution_count": 3,
   "id": "8ddbd24e",
   "metadata": {},
   "outputs": [],
   "source": [
    "import seaborn as sns"
   ]
  },
  {
   "cell_type": "code",
   "execution_count": 4,
   "id": "15d3fb1f",
   "metadata": {},
   "outputs": [],
   "source": [
    "df = sns.load_dataset('tips')"
   ]
  },
  {
   "cell_type": "code",
   "execution_count": 5,
   "id": "3dfbc28d",
   "metadata": {},
   "outputs": [
    {
     "data": {
      "text/html": [
       "<div>\n",
       "<style scoped>\n",
       "    .dataframe tbody tr th:only-of-type {\n",
       "        vertical-align: middle;\n",
       "    }\n",
       "\n",
       "    .dataframe tbody tr th {\n",
       "        vertical-align: top;\n",
       "    }\n",
       "\n",
       "    .dataframe thead th {\n",
       "        text-align: right;\n",
       "    }\n",
       "</style>\n",
       "<table border=\"1\" class=\"dataframe\">\n",
       "  <thead>\n",
       "    <tr style=\"text-align: right;\">\n",
       "      <th></th>\n",
       "      <th>total_bill</th>\n",
       "      <th>tip</th>\n",
       "      <th>sex</th>\n",
       "      <th>smoker</th>\n",
       "      <th>day</th>\n",
       "      <th>time</th>\n",
       "      <th>size</th>\n",
       "    </tr>\n",
       "  </thead>\n",
       "  <tbody>\n",
       "    <tr>\n",
       "      <th>0</th>\n",
       "      <td>16.99</td>\n",
       "      <td>1.01</td>\n",
       "      <td>Female</td>\n",
       "      <td>No</td>\n",
       "      <td>Sun</td>\n",
       "      <td>Dinner</td>\n",
       "      <td>2</td>\n",
       "    </tr>\n",
       "    <tr>\n",
       "      <th>1</th>\n",
       "      <td>10.34</td>\n",
       "      <td>1.66</td>\n",
       "      <td>Male</td>\n",
       "      <td>No</td>\n",
       "      <td>Sun</td>\n",
       "      <td>Dinner</td>\n",
       "      <td>3</td>\n",
       "    </tr>\n",
       "    <tr>\n",
       "      <th>2</th>\n",
       "      <td>21.01</td>\n",
       "      <td>3.50</td>\n",
       "      <td>Male</td>\n",
       "      <td>No</td>\n",
       "      <td>Sun</td>\n",
       "      <td>Dinner</td>\n",
       "      <td>3</td>\n",
       "    </tr>\n",
       "    <tr>\n",
       "      <th>3</th>\n",
       "      <td>23.68</td>\n",
       "      <td>3.31</td>\n",
       "      <td>Male</td>\n",
       "      <td>No</td>\n",
       "      <td>Sun</td>\n",
       "      <td>Dinner</td>\n",
       "      <td>2</td>\n",
       "    </tr>\n",
       "    <tr>\n",
       "      <th>4</th>\n",
       "      <td>24.59</td>\n",
       "      <td>3.61</td>\n",
       "      <td>Female</td>\n",
       "      <td>No</td>\n",
       "      <td>Sun</td>\n",
       "      <td>Dinner</td>\n",
       "      <td>4</td>\n",
       "    </tr>\n",
       "  </tbody>\n",
       "</table>\n",
       "</div>"
      ],
      "text/plain": [
       "   total_bill   tip     sex smoker  day    time  size\n",
       "0       16.99  1.01  Female     No  Sun  Dinner     2\n",
       "1       10.34  1.66    Male     No  Sun  Dinner     3\n",
       "2       21.01  3.50    Male     No  Sun  Dinner     3\n",
       "3       23.68  3.31    Male     No  Sun  Dinner     2\n",
       "4       24.59  3.61  Female     No  Sun  Dinner     4"
      ]
     },
     "execution_count": 5,
     "metadata": {},
     "output_type": "execute_result"
    }
   ],
   "source": [
    "df.head()"
   ]
  },
  {
   "cell_type": "code",
   "execution_count": 6,
   "id": "4b235795",
   "metadata": {},
   "outputs": [],
   "source": [
    "from pandas_profiling import ProfileReport"
   ]
  },
  {
   "cell_type": "code",
   "execution_count": 7,
   "id": "366b4fbd",
   "metadata": {},
   "outputs": [],
   "source": [
    "profile = ProfileReport(df,explorative=True,dark_mode=True)"
   ]
  },
  {
   "cell_type": "code",
   "execution_count": 8,
   "id": "d1ca2344",
   "metadata": {},
   "outputs": [
    {
     "data": {
      "application/vnd.jupyter.widget-view+json": {
       "model_id": "0c54ff07fe26477f9b38ef2915ab98d0",
       "version_major": 2,
       "version_minor": 0
      },
      "text/plain": [
       "Summarize dataset:   0%|          | 0/5 [00:00<?, ?it/s]"
      ]
     },
     "metadata": {},
     "output_type": "display_data"
    },
    {
     "data": {
      "application/vnd.jupyter.widget-view+json": {
       "model_id": "3bda7a794a0843359a8ccebbf4a0a79f",
       "version_major": 2,
       "version_minor": 0
      },
      "text/plain": [
       "Generate report structure:   0%|          | 0/1 [00:00<?, ?it/s]"
      ]
     },
     "metadata": {},
     "output_type": "display_data"
    },
    {
     "data": {
      "application/vnd.jupyter.widget-view+json": {
       "model_id": "7b9e416c75b34532a20921f4a84a74aa",
       "version_major": 2,
       "version_minor": 0
      },
      "text/plain": [
       "Render HTML:   0%|          | 0/1 [00:00<?, ?it/s]"
      ]
     },
     "metadata": {},
     "output_type": "display_data"
    },
    {
     "data": {
      "application/vnd.jupyter.widget-view+json": {
       "model_id": "d1f49ca9d5e4406f8d0642b4d5fb25e8",
       "version_major": 2,
       "version_minor": 0
      },
      "text/plain": [
       "Export report to file:   0%|          | 0/1 [00:00<?, ?it/s]"
      ]
     },
     "metadata": {},
     "output_type": "display_data"
    }
   ],
   "source": [
    "profile.to_file('output.html')"
   ]
  },
  {
   "cell_type": "markdown",
   "id": "c610be12",
   "metadata": {},
   "source": [
    "### 2. dtale"
   ]
  },
  {
   "cell_type": "code",
   "execution_count": 18,
   "id": "f745e491",
   "metadata": {},
   "outputs": [
    {
     "name": "stdout",
     "output_type": "stream",
     "text": [
      "Requirement already satisfied: pip in c:\\users\\chitchat\\anaconda3\\lib\\site-packages (22.3.1)\n"
     ]
    }
   ],
   "source": [
    "!pip install pip --upgrade --user"
   ]
  },
  {
   "cell_type": "code",
   "execution_count": 29,
   "id": "748b5f9b",
   "metadata": {},
   "outputs": [
    {
     "name": "stdout",
     "output_type": "stream",
     "text": [
      "Requirement already satisfied: dtale in c:\\users\\chitchat\\appdata\\roaming\\python\\python38\\site-packages (2.9.0)\n",
      "Requirement already satisfied: itsdangerous in c:\\users\\chitchat\\anaconda3\\lib\\site-packages (from dtale) (1.1.0)\n",
      "Requirement already satisfied: strsimpy in c:\\users\\chitchat\\anaconda3\\lib\\site-packages (from dtale) (0.2.1)\n",
      "Requirement already satisfied: Flask-Compress in c:\\users\\chitchat\\appdata\\roaming\\python\\python38\\site-packages (from dtale) (1.13)\n",
      "Requirement already satisfied: numpy in c:\\users\\chitchat\\anaconda3\\lib\\site-packages (from dtale) (1.22.4)\n",
      "Requirement already satisfied: pandas in c:\\users\\chitchat\\anaconda3\\lib\\site-packages (from dtale) (1.5.1)\n",
      "Requirement already satisfied: dash-colorscales in c:\\users\\chitchat\\anaconda3\\lib\\site-packages (from dtale) (0.0.4)\n",
      "Requirement already satisfied: certifi in c:\\users\\chitchat\\anaconda3\\lib\\site-packages (from dtale) (2020.12.5)\n",
      "Requirement already satisfied: kaleido in c:\\users\\chitchat\\anaconda3\\lib\\site-packages (from dtale) (0.2.1)\n",
      "Requirement already satisfied: squarify in c:\\users\\chitchat\\anaconda3\\lib\\site-packages (from dtale) (0.4.3)\n",
      "Requirement already satisfied: six in c:\\users\\chitchat\\anaconda3\\lib\\site-packages (from dtale) (1.15.0)\n",
      "Requirement already satisfied: xlrd in c:\\users\\chitchat\\anaconda3\\lib\\site-packages (from dtale) (2.0.1)\n",
      "Requirement already satisfied: dash-bootstrap-components in c:\\users\\chitchat\\appdata\\roaming\\python\\python38\\site-packages (from dtale) (1.2.1)\n",
      "Requirement already satisfied: scikit-learn in c:\\users\\chitchat\\anaconda3\\lib\\site-packages (from dtale) (0.24.1)\n"
     ]
    },
    {
     "name": "stderr",
     "output_type": "stream",
     "text": [
      "WARNING: Ignoring invalid distribution -atplotlib (c:\\users\\chitchat\\anaconda3\\lib\\site-packages)\n",
      "WARNING: Ignoring invalid distribution -atplotlib (c:\\users\\chitchat\\anaconda3\\lib\\site-packages)\n",
      "WARNING: Ignoring invalid distribution -atplotlib (c:\\users\\chitchat\\anaconda3\\lib\\site-packages)\n",
      "WARNING: Ignoring invalid distribution -atplotlib (c:\\users\\chitchat\\anaconda3\\lib\\site-packages)\n",
      "WARNING: Ignoring invalid distribution -atplotlib (c:\\users\\chitchat\\anaconda3\\lib\\site-packages)\n",
      "WARNING: Ignoring invalid distribution -atplotlib (c:\\users\\chitchat\\anaconda3\\lib\\site-packages)\n"
     ]
    },
    {
     "name": "stdout",
     "output_type": "stream",
     "text": [
      "Requirement already satisfied: networkx in c:\\users\\chitchat\\anaconda3\\lib\\site-packages (from dtale) (2.5)\n",
      "Requirement already satisfied: dash>=2.0.0 in c:\\users\\chitchat\\appdata\\roaming\\python\\python38\\site-packages (from dtale) (2.7.0)\n",
      "Requirement already satisfied: scipy in c:\\users\\chitchat\\anaconda3\\lib\\site-packages (from dtale) (1.6.2)\n",
      "Requirement already satisfied: openpyxl in c:\\users\\chitchat\\anaconda3\\lib\\site-packages (from dtale) (3.0.7)\n",
      "Requirement already satisfied: xarray in c:\\users\\chitchat\\appdata\\roaming\\python\\python38\\site-packages (from dtale) (2022.11.0)\n",
      "Requirement already satisfied: dash-daq in c:\\users\\chitchat\\appdata\\roaming\\python\\python38\\site-packages (from dtale) (0.5.0)\n",
      "Requirement already satisfied: statsmodels in c:\\users\\chitchat\\anaconda3\\lib\\site-packages (from dtale) (0.13.5)\n",
      "Requirement already satisfied: future>=0.14.0 in c:\\users\\chitchat\\anaconda3\\lib\\site-packages (from dtale) (0.18.2)\n",
      "Requirement already satisfied: cycler in c:\\users\\chitchat\\anaconda3\\lib\\site-packages (from dtale) (0.10.0)\n",
      "Requirement already satisfied: matplotlib==3.6.0 in c:\\users\\chitchat\\appdata\\roaming\\python\\python38\\site-packages (from dtale) (3.6.0)\n",
      "Requirement already satisfied: flask-ngrok in c:\\users\\chitchat\\appdata\\roaming\\python\\python38\\site-packages (from dtale) (0.0.25)\n",
      "Requirement already satisfied: plotly>=5.0.0 in c:\\users\\chitchat\\anaconda3\\lib\\site-packages (from dtale) (5.11.0)\n",
      "Requirement already satisfied: missingno<=0.4.2 in c:\\users\\chitchat\\appdata\\roaming\\python\\python38\\site-packages (from dtale) (0.4.2)\n",
      "Requirement already satisfied: et-xmlfile in c:\\users\\chitchat\\anaconda3\\lib\\site-packages (from dtale) (1.0.1)\n",
      "Requirement already satisfied: Flask in c:\\users\\chitchat\\anaconda3\\lib\\site-packages (from dtale) (1.1.2)\n",
      "Requirement already satisfied: seaborn in c:\\users\\chitchat\\anaconda3\\lib\\site-packages (from dtale) (0.11.1)\n",
      "Requirement already satisfied: requests in c:\\users\\chitchat\\anaconda3\\lib\\site-packages (from dtale) (2.25.1)\n",
      "Requirement already satisfied: lz4 in c:\\users\\chitchat\\anaconda3\\lib\\site-packages (from dtale) (4.0.2)\n",
      "Requirement already satisfied: contourpy>=1.0.1 in c:\\users\\chitchat\\anaconda3\\lib\\site-packages (from matplotlib==3.6.0->dtale) (1.0.6)\n",
      "Requirement already satisfied: fonttools>=4.22.0 in c:\\users\\chitchat\\anaconda3\\lib\\site-packages (from matplotlib==3.6.0->dtale) (4.38.0)\n",
      "Requirement already satisfied: pillow>=6.2.0 in c:\\users\\chitchat\\anaconda3\\lib\\site-packages (from matplotlib==3.6.0->dtale) (8.2.0)\n",
      "Requirement already satisfied: packaging>=20.0 in c:\\users\\chitchat\\anaconda3\\lib\\site-packages (from matplotlib==3.6.0->dtale) (21.3)\n",
      "Requirement already satisfied: pyparsing>=2.2.1 in c:\\users\\chitchat\\anaconda3\\lib\\site-packages (from matplotlib==3.6.0->dtale) (2.4.7)\n",
      "Requirement already satisfied: kiwisolver>=1.0.1 in c:\\users\\chitchat\\anaconda3\\lib\\site-packages (from matplotlib==3.6.0->dtale) (1.3.1)\n",
      "Requirement already satisfied: python-dateutil>=2.7 in c:\\users\\chitchat\\anaconda3\\lib\\site-packages (from matplotlib==3.6.0->dtale) (2.8.1)\n",
      "Requirement already satisfied: dash-core-components==2.0.0 in c:\\users\\chitchat\\anaconda3\\lib\\site-packages (from dash>=2.0.0->dtale) (2.0.0)\n",
      "Requirement already satisfied: dash-table==5.0.0 in c:\\users\\chitchat\\anaconda3\\lib\\site-packages (from dash>=2.0.0->dtale) (5.0.0)\n",
      "Requirement already satisfied: dash-html-components==2.0.0 in c:\\users\\chitchat\\anaconda3\\lib\\site-packages (from dash>=2.0.0->dtale) (2.0.0)\n",
      "Requirement already satisfied: click>=5.1 in c:\\users\\chitchat\\anaconda3\\lib\\site-packages (from Flask->dtale) (7.1.2)\n",
      "Requirement already satisfied: Jinja2>=2.10.1 in c:\\users\\chitchat\\anaconda3\\lib\\site-packages (from Flask->dtale) (2.11.3)\n",
      "Requirement already satisfied: Werkzeug>=0.15 in c:\\users\\chitchat\\anaconda3\\lib\\site-packages (from Flask->dtale) (1.0.1)\n",
      "Requirement already satisfied: tenacity>=6.2.0 in c:\\users\\chitchat\\anaconda3\\lib\\site-packages (from plotly>=5.0.0->dtale) (8.1.0)\n",
      "Requirement already satisfied: brotli in c:\\users\\chitchat\\anaconda3\\lib\\site-packages (from Flask-Compress->dtale) (1.0.9)\n",
      "Requirement already satisfied: decorator>=4.3.0 in c:\\users\\chitchat\\anaconda3\\lib\\site-packages (from networkx->dtale) (5.0.6)\n",
      "Requirement already satisfied: pytz>=2020.1 in c:\\users\\chitchat\\anaconda3\\lib\\site-packages (from pandas->dtale) (2021.1)\n",
      "Requirement already satisfied: urllib3<1.27,>=1.21.1 in c:\\users\\chitchat\\anaconda3\\lib\\site-packages (from requests->dtale) (1.26.4)\n",
      "Requirement already satisfied: idna<3,>=2.5 in c:\\users\\chitchat\\anaconda3\\lib\\site-packages (from requests->dtale) (2.10)\n",
      "Requirement already satisfied: chardet<5,>=3.0.2 in c:\\users\\chitchat\\anaconda3\\lib\\site-packages (from requests->dtale) (4.0.0)\n",
      "Requirement already satisfied: threadpoolctl>=2.0.0 in c:\\users\\chitchat\\anaconda3\\lib\\site-packages (from scikit-learn->dtale) (2.1.0)\n",
      "Requirement already satisfied: joblib>=0.11 in c:\\users\\chitchat\\anaconda3\\lib\\site-packages (from scikit-learn->dtale) (1.0.1)\n",
      "Requirement already satisfied: patsy>=0.5.2 in c:\\users\\chitchat\\anaconda3\\lib\\site-packages (from statsmodels->dtale) (0.5.3)\n",
      "Requirement already satisfied: MarkupSafe>=0.23 in c:\\users\\chitchat\\anaconda3\\lib\\site-packages (from Jinja2>=2.10.1->Flask->dtale) (1.1.1)\n"
     ]
    }
   ],
   "source": [
    "!pip install dtale --user"
   ]
  },
  {
   "cell_type": "code",
   "execution_count": 30,
   "id": "e8d537e6",
   "metadata": {},
   "outputs": [],
   "source": [
    "import pandas as pd\n",
    "import seaborn as sns"
   ]
  },
  {
   "cell_type": "code",
   "execution_count": 31,
   "id": "a86d6b49",
   "metadata": {},
   "outputs": [],
   "source": [
    "df=sns.load_dataset('titanic')"
   ]
  },
  {
   "cell_type": "code",
   "execution_count": 32,
   "id": "21b54e03",
   "metadata": {},
   "outputs": [
    {
     "ename": "ModuleNotFoundError",
     "evalue": "No module named 'dtale'",
     "output_type": "error",
     "traceback": [
      "\u001b[1;31m---------------------------------------------------------------------------\u001b[0m",
      "\u001b[1;31mModuleNotFoundError\u001b[0m                       Traceback (most recent call last)",
      "\u001b[1;32m<ipython-input-32-720ec9d265c0>\u001b[0m in \u001b[0;36m<module>\u001b[1;34m\u001b[0m\n\u001b[1;32m----> 1\u001b[1;33m \u001b[1;32mimport\u001b[0m \u001b[0mdtale\u001b[0m\u001b[1;33m\u001b[0m\u001b[1;33m\u001b[0m\u001b[0m\n\u001b[0m\u001b[0;32m      2\u001b[0m \u001b[0mdtale\u001b[0m\u001b[1;33m.\u001b[0m\u001b[0mshow\u001b[0m\u001b[1;33m(\u001b[0m\u001b[0mdf\u001b[0m\u001b[1;33m)\u001b[0m\u001b[1;33m\u001b[0m\u001b[1;33m\u001b[0m\u001b[0m\n",
      "\u001b[1;31mModuleNotFoundError\u001b[0m: No module named 'dtale'"
     ]
    }
   ],
   "source": [
    "import dtale\n",
    "dtale.show(df)"
   ]
  },
  {
   "cell_type": "markdown",
   "id": "bc622583",
   "metadata": {},
   "source": [
    "### 3. Sweetviz"
   ]
  },
  {
   "cell_type": "code",
   "execution_count": 33,
   "id": "e9d5a1cd",
   "metadata": {},
   "outputs": [
    {
     "name": "stdout",
     "output_type": "stream",
     "text": [
      "Collecting sweetviz\n",
      "  Downloading sweetviz-2.1.4-py3-none-any.whl (15.1 MB)\n",
      "     ---------------------------------------- 15.1/15.1 MB 2.8 MB/s eta 0:00:00\n",
      "Requirement already satisfied: jinja2>=2.11.1 in c:\\users\\chitchat\\anaconda3\\lib\\site-packages (from sweetviz) (2.11.3)\n",
      "Collecting importlib-resources>=1.2.0\n",
      "  Downloading importlib_resources-5.10.0-py3-none-any.whl (34 kB)\n",
      "Requirement already satisfied: numpy>=1.16.0 in c:\\users\\chitchat\\anaconda3\\lib\\site-packages (from sweetviz) (1.22.4)\n",
      "Requirement already satisfied: matplotlib>=3.1.3 in c:\\users\\chitchat\\appdata\\roaming\\python\\python38\\site-packages (from sweetviz) (3.6.0)\n",
      "Requirement already satisfied: pandas!=1.0.0,!=1.0.1,!=1.0.2,>=0.25.3 in c:\\users\\chitchat\\anaconda3\\lib\\site-packages (from sweetviz) (1.5.1)\n",
      "Requirement already satisfied: tqdm>=4.43.0 in c:\\users\\chitchat\\anaconda3\\lib\\site-packages (from sweetviz) (4.59.0)\n",
      "Requirement already satisfied: scipy>=1.3.2 in c:\\users\\chitchat\\anaconda3\\lib\\site-packages (from sweetviz) (1.6.2)\n",
      "Requirement already satisfied: zipp>=3.1.0 in c:\\users\\chitchat\\anaconda3\\lib\\site-packages (from importlib-resources>=1.2.0->sweetviz) (3.4.1)\n",
      "Requirement already satisfied: MarkupSafe>=0.23 in c:\\users\\chitchat\\anaconda3\\lib\\site-packages (from jinja2>=2.11.1->sweetviz) (1.1.1)\n",
      "Requirement already satisfied: cycler>=0.10 in c:\\users\\chitchat\\anaconda3\\lib\\site-packages (from matplotlib>=3.1.3->sweetviz) (0.10.0)\n",
      "Requirement already satisfied: fonttools>=4.22.0 in c:\\users\\chitchat\\anaconda3\\lib\\site-packages (from matplotlib>=3.1.3->sweetviz) (4.38.0)\n",
      "Requirement already satisfied: kiwisolver>=1.0.1 in c:\\users\\chitchat\\anaconda3\\lib\\site-packages (from matplotlib>=3.1.3->sweetviz) (1.3.1)\n",
      "Requirement already satisfied: pillow>=6.2.0 in c:\\users\\chitchat\\anaconda3\\lib\\site-packages (from matplotlib>=3.1.3->sweetviz) (8.2.0)\n",
      "Requirement already satisfied: pyparsing>=2.2.1 in c:\\users\\chitchat\\anaconda3\\lib\\site-packages (from matplotlib>=3.1.3->sweetviz) (2.4.7)\n",
      "Requirement already satisfied: python-dateutil>=2.7 in c:\\users\\chitchat\\anaconda3\\lib\\site-packages (from matplotlib>=3.1.3->sweetviz) (2.8.1)\n",
      "Requirement already satisfied: packaging>=20.0 in c:\\users\\chitchat\\anaconda3\\lib\\site-packages (from matplotlib>=3.1.3->sweetviz) (21.3)\n",
      "Requirement already satisfied: contourpy>=1.0.1 in c:\\users\\chitchat\\anaconda3\\lib\\site-packages (from matplotlib>=3.1.3->sweetviz) (1.0.6)\n",
      "Requirement already satisfied: pytz>=2020.1 in c:\\users\\chitchat\\anaconda3\\lib\\site-packages (from pandas!=1.0.0,!=1.0.1,!=1.0.2,>=0.25.3->sweetviz) (2021.1)\n",
      "Requirement already satisfied: six in c:\\users\\chitchat\\anaconda3\\lib\\site-packages (from cycler>=0.10->matplotlib>=3.1.3->sweetviz) (1.15.0)\n",
      "Installing collected packages: importlib-resources, sweetviz\n",
      "Successfully installed importlib-resources-5.10.0 sweetviz-2.1.4\n"
     ]
    },
    {
     "name": "stderr",
     "output_type": "stream",
     "text": [
      "WARNING: Ignoring invalid distribution -atplotlib (c:\\users\\chitchat\\anaconda3\\lib\\site-packages)\n",
      "WARNING: Ignoring invalid distribution -atplotlib (c:\\users\\chitchat\\anaconda3\\lib\\site-packages)\n",
      "WARNING: Ignoring invalid distribution -atplotlib (c:\\users\\chitchat\\anaconda3\\lib\\site-packages)\n",
      "WARNING: Ignoring invalid distribution -atplotlib (c:\\users\\chitchat\\anaconda3\\lib\\site-packages)\n",
      "WARNING: Ignoring invalid distribution -atplotlib (c:\\users\\chitchat\\anaconda3\\lib\\site-packages)\n",
      "WARNING: Ignoring invalid distribution -atplotlib (c:\\users\\chitchat\\anaconda3\\lib\\site-packages)\n",
      "WARNING: Ignoring invalid distribution -atplotlib (c:\\users\\chitchat\\anaconda3\\lib\\site-packages)\n",
      "WARNING: Ignoring invalid distribution -atplotlib (c:\\users\\chitchat\\anaconda3\\lib\\site-packages)\n"
     ]
    }
   ],
   "source": [
    "!pip install sweetviz"
   ]
  },
  {
   "cell_type": "code",
   "execution_count": 38,
   "id": "6708875d",
   "metadata": {},
   "outputs": [
    {
     "data": {
      "application/vnd.jupyter.widget-view+json": {
       "model_id": "4f6a2c7b4fc14687afdb273f45826265",
       "version_major": 2,
       "version_minor": 0
      },
      "text/plain": [
       "                                             |                                             | [  0%]   00:00 ->…"
      ]
     },
     "metadata": {},
     "output_type": "display_data"
    },
    {
     "name": "stdout",
     "output_type": "stream",
     "text": [
      "Report newreport.html was generated! NOTEBOOK/COLAB USERS: the web browser MAY not pop up, regardless, the report IS saved in your notebook/colab files.\n"
     ]
    }
   ],
   "source": [
    "import sweetviz as sv\n",
    "report=sv.analyze(df)\n",
    "report.show_html('newreport.html')"
   ]
  },
  {
   "cell_type": "markdown",
   "id": "60b7e36d",
   "metadata": {},
   "source": [
    "### 4. Dataprep"
   ]
  },
  {
   "cell_type": "code",
   "execution_count": 39,
   "id": "aa88897f",
   "metadata": {},
   "outputs": [
    {
     "name": "stdout",
     "output_type": "stream",
     "text": [
      "Collecting dataprep\n",
      "  Downloading dataprep-0.4.5-py3-none-any.whl (9.9 MB)\n",
      "     ---------------------------------------- 9.9/9.9 MB 819.4 kB/s eta 0:00:00\n",
      "Collecting jinja2<3.1,>=3.0"
     ]
    },
    {
     "name": "stderr",
     "output_type": "stream",
     "text": [
      "WARNING: Ignoring invalid distribution -atplotlib (c:\\users\\chitchat\\anaconda3\\lib\\site-packages)\n",
      "WARNING: Ignoring invalid distribution -atplotlib (c:\\users\\chitchat\\anaconda3\\lib\\site-packages)\n",
      "WARNING: Ignoring invalid distribution -atplotlib (c:\\users\\chitchat\\anaconda3\\lib\\site-packages)\n",
      "    WARNING: Ignoring invalid distribution -atplotlib (c:\\users\\chitchat\\anaconda3\\lib\\site-packages)\n",
      "    WARNING: Ignoring invalid distribution -atplotlib (c:\\users\\chitchat\\anaconda3\\lib\\site-packages)\n",
      "    WARNING: Ignoring invalid distribution -atplotlib (c:\\users\\chitchat\\anaconda3\\lib\\site-packages)\n",
      "ERROR: Could not install packages due to an OSError: [WinError 5] Access is denied: 'C:\\\\Users\\\\CHITCHAT\\\\anaconda3\\\\Lib\\\\site-packages\\\\~cipy\\\\cluster\\\\_hierarchy.cp38-win_amd64.pyd'\n",
      "Consider using the `--user` option or check the permissions.\n",
      "\n",
      "WARNING: Ignoring invalid distribution -atplotlib (c:\\users\\chitchat\\anaconda3\\lib\\site-packages)\n",
      "WARNING: Ignoring invalid distribution -atplotlib (c:\\users\\chitchat\\anaconda3\\lib\\site-packages)\n",
      "WARNING: Ignoring invalid distribution -atplotlib (c:\\users\\chitchat\\anaconda3\\lib\\site-packages)\n"
     ]
    },
    {
     "name": "stdout",
     "output_type": "stream",
     "text": [
      "\n",
      "  Downloading Jinja2-3.0.3-py3-none-any.whl (133 kB)\n",
      "     ------------------------------------ 133.6/133.6 kB 463.9 kB/s eta 0:00:00\n",
      "Collecting python-crfsuite==0.9.8\n",
      "  Downloading python_crfsuite-0.9.8-cp38-cp38-win_amd64.whl (152 kB)\n",
      "     ------------------------------------ 152.5/152.5 kB 337.1 kB/s eta 0:00:00\n",
      "Collecting rapidfuzz<3.0.0,>=2.1.2\n",
      "  Downloading rapidfuzz-2.13.2-cp38-cp38-win_amd64.whl (1.0 MB)\n",
      "     ---------------------------------------- 1.0/1.0 MB 403.8 kB/s eta 0:00:00\n",
      "Collecting nltk<4.0.0,>=3.6.7\n",
      "  Downloading nltk-3.7-py3-none-any.whl (1.5 MB)\n",
      "     ---------------------------------------- 1.5/1.5 MB 730.2 kB/s eta 0:00:00\n",
      "Collecting flask<3,>=2\n",
      "  Downloading Flask-2.2.2-py3-none-any.whl (101 kB)\n",
      "     ------------------------------------ 101.5/101.5 kB 651.7 kB/s eta 0:00:00\n",
      "Collecting flask_cors<4.0.0,>=3.0.10\n",
      "  Downloading Flask_Cors-3.0.10-py2.py3-none-any.whl (14 kB)\n",
      "Requirement already satisfied: pydantic<2.0,>=1.6 in c:\\users\\chitchat\\anaconda3\\lib\\site-packages (from dataprep) (1.10.2)\n",
      "Collecting python-stdnum<2.0,>=1.16\n",
      "  Downloading python_stdnum-1.18-py2.py3-none-any.whl (1.0 MB)\n",
      "     ---------------------------------------- 1.0/1.0 MB 864.7 kB/s eta 0:00:00\n",
      "Collecting regex<2022.0.0,>=2021.8.3\n",
      "  Downloading regex-2021.11.10-cp38-cp38-win_amd64.whl (273 kB)\n",
      "     ------------------------------------ 273.3/273.3 kB 343.9 kB/s eta 0:00:00\n",
      "Collecting sqlalchemy==1.3.24\n",
      "  Downloading SQLAlchemy-1.3.24-cp38-cp38-win_amd64.whl (1.2 MB)\n",
      "     ---------------------------------------- 1.2/1.2 MB 641.7 kB/s eta 0:00:00\n",
      "Collecting metaphone<0.7,>=0.6\n",
      "  Downloading Metaphone-0.6.tar.gz (14 kB)\n",
      "  Preparing metadata (setup.py): started\n",
      "  Preparing metadata (setup.py): finished with status 'done'\n",
      "Requirement already satisfied: tqdm<5.0,>=4.48 in c:\\users\\chitchat\\anaconda3\\lib\\site-packages (from dataprep) (4.59.0)\n",
      "Collecting jsonpath-ng<2.0,>=1.5\n",
      "  Downloading jsonpath_ng-1.5.3-py3-none-any.whl (29 kB)\n",
      "Collecting pydot<2.0.0,>=1.4.2\n",
      "  Downloading pydot-1.4.2-py2.py3-none-any.whl (21 kB)\n",
      "Collecting aiohttp<4.0,>=3.6\n",
      "  Downloading aiohttp-3.8.3-cp38-cp38-win_amd64.whl (324 kB)\n",
      "     -------------------------------------- 324.3/324.3 kB 1.1 MB/s eta 0:00:00\n",
      "Requirement already satisfied: numpy<2.0,>=1.21 in c:\\users\\chitchat\\anaconda3\\lib\\site-packages (from dataprep) (1.22.4)\n",
      "Collecting scipy<2.0,>=1.8\n",
      "  Downloading scipy-1.9.3-cp38-cp38-win_amd64.whl (39.8 MB)\n",
      "     -------------------------------------- 39.8/39.8 MB 489.0 kB/s eta 0:00:00\n",
      "Collecting wordcloud<2.0,>=1.8\n",
      "  Downloading wordcloud-1.8.2.2-cp38-cp38-win_amd64.whl (152 kB)\n",
      "     ------------------------------------ 152.9/152.9 kB 607.2 kB/s eta 0:00:00\n",
      "Collecting varname<0.9.0,>=0.8.1\n",
      "  Downloading varname-0.8.3-py3-none-any.whl (21 kB)\n",
      "Requirement already satisfied: ipywidgets<8.0,>=7.5 in c:\\users\\chitchat\\anaconda3\\lib\\site-packages (from dataprep) (7.6.3)\n",
      "Requirement already satisfied: pandas<2.0,>=1.1 in c:\\users\\chitchat\\anaconda3\\lib\\site-packages (from dataprep) (1.5.1)\n",
      "Collecting dask[array,dataframe,delayed]>=2022.3.0\n",
      "  Downloading dask-2022.11.1-py3-none-any.whl (1.1 MB)\n",
      "     ---------------------------------------- 1.1/1.1 MB 1.3 MB/s eta 0:00:00\n",
      "Requirement already satisfied: bokeh<3,>=2 in c:\\users\\chitchat\\anaconda3\\lib\\site-packages (from dataprep) (2.3.2)\n",
      "Collecting aiosignal>=1.1.2\n",
      "  Downloading aiosignal-1.3.1-py3-none-any.whl (7.6 kB)\n",
      "Collecting async-timeout<5.0,>=4.0.0a3\n",
      "  Downloading async_timeout-4.0.2-py3-none-any.whl (5.8 kB)\n",
      "Collecting frozenlist>=1.1.1\n",
      "  Downloading frozenlist-1.3.3-cp38-cp38-win_amd64.whl (34 kB)\n",
      "Collecting multidict<7.0,>=4.5\n",
      "  Downloading multidict-6.0.2-cp38-cp38-win_amd64.whl (28 kB)\n",
      "Collecting yarl<2.0,>=1.0\n",
      "  Downloading yarl-1.8.1-cp38-cp38-win_amd64.whl (56 kB)\n",
      "     -------------------------------------- 56.8/56.8 kB 426.7 kB/s eta 0:00:00\n",
      "Requirement already satisfied: attrs>=17.3.0 in c:\\users\\chitchat\\anaconda3\\lib\\site-packages (from aiohttp<4.0,>=3.6->dataprep) (20.3.0)\n",
      "Collecting charset-normalizer<3.0,>=2.0\n",
      "  Downloading charset_normalizer-2.1.1-py3-none-any.whl (39 kB)\n",
      "Requirement already satisfied: pillow>=7.1.0 in c:\\users\\chitchat\\anaconda3\\lib\\site-packages (from bokeh<3,>=2->dataprep) (8.2.0)\n",
      "Requirement already satisfied: tornado>=5.1 in c:\\users\\chitchat\\anaconda3\\lib\\site-packages (from bokeh<3,>=2->dataprep) (6.1)\n",
      "Requirement already satisfied: packaging>=16.8 in c:\\users\\chitchat\\anaconda3\\lib\\site-packages (from bokeh<3,>=2->dataprep) (21.3)\n",
      "Requirement already satisfied: typing-extensions>=3.7.4 in c:\\users\\chitchat\\anaconda3\\lib\\site-packages (from bokeh<3,>=2->dataprep) (4.4.0)\n",
      "Requirement already satisfied: python-dateutil>=2.1 in c:\\users\\chitchat\\anaconda3\\lib\\site-packages (from bokeh<3,>=2->dataprep) (2.8.1)\n",
      "Requirement already satisfied: PyYAML>=3.10 in c:\\users\\chitchat\\anaconda3\\lib\\site-packages (from bokeh<3,>=2->dataprep) (5.4.1)\n",
      "Requirement already satisfied: fsspec>=0.6.0 in c:\\users\\chitchat\\anaconda3\\lib\\site-packages (from dask[array,dataframe,delayed]>=2022.3.0->dataprep) (0.9.0)\n",
      "Requirement already satisfied: toolz>=0.8.2 in c:\\users\\chitchat\\anaconda3\\lib\\site-packages (from dask[array,dataframe,delayed]>=2022.3.0->dataprep) (0.11.1)\n",
      "Requirement already satisfied: partd>=0.3.10 in c:\\users\\chitchat\\anaconda3\\lib\\site-packages (from dask[array,dataframe,delayed]>=2022.3.0->dataprep) (1.2.0)\n",
      "Requirement already satisfied: click>=7.0 in c:\\users\\chitchat\\anaconda3\\lib\\site-packages (from dask[array,dataframe,delayed]>=2022.3.0->dataprep) (7.1.2)\n",
      "Requirement already satisfied: cloudpickle>=1.1.1 in c:\\users\\chitchat\\anaconda3\\lib\\site-packages (from dask[array,dataframe,delayed]>=2022.3.0->dataprep) (1.6.0)\n",
      "Requirement already satisfied: importlib-metadata>=3.6.0 in c:\\users\\chitchat\\anaconda3\\lib\\site-packages (from flask<3,>=2->dataprep) (3.10.0)\n",
      "Collecting click>=7.0\n",
      "  Downloading click-8.1.3-py3-none-any.whl (96 kB)\n",
      "     -------------------------------------- 96.6/96.6 kB 690.8 kB/s eta 0:00:00\n",
      "Collecting Werkzeug>=2.2.2\n",
      "  Downloading Werkzeug-2.2.2-py3-none-any.whl (232 kB)\n",
      "     ------------------------------------ 232.7/232.7 kB 713.0 kB/s eta 0:00:00\n",
      "Collecting itsdangerous>=2.0\n",
      "  Downloading itsdangerous-2.1.2-py3-none-any.whl (15 kB)\n",
      "Requirement already satisfied: Six in c:\\users\\chitchat\\anaconda3\\lib\\site-packages (from flask_cors<4.0.0,>=3.0.10->dataprep) (1.15.0)\n",
      "Requirement already satisfied: ipykernel>=4.5.1 in c:\\users\\chitchat\\anaconda3\\lib\\site-packages (from ipywidgets<8.0,>=7.5->dataprep) (5.3.4)\n",
      "Requirement already satisfied: jupyterlab-widgets>=1.0.0 in c:\\users\\chitchat\\anaconda3\\lib\\site-packages (from ipywidgets<8.0,>=7.5->dataprep) (1.0.0)\n",
      "Requirement already satisfied: nbformat>=4.2.0 in c:\\users\\chitchat\\anaconda3\\lib\\site-packages (from ipywidgets<8.0,>=7.5->dataprep) (5.1.3)\n",
      "Requirement already satisfied: traitlets>=4.3.1 in c:\\users\\chitchat\\anaconda3\\lib\\site-packages (from ipywidgets<8.0,>=7.5->dataprep) (5.0.5)\n",
      "Requirement already satisfied: widgetsnbextension~=3.5.0 in c:\\users\\chitchat\\anaconda3\\lib\\site-packages (from ipywidgets<8.0,>=7.5->dataprep) (3.5.1)\n",
      "Requirement already satisfied: ipython>=4.0.0 in c:\\users\\chitchat\\anaconda3\\lib\\site-packages (from ipywidgets<8.0,>=7.5->dataprep) (7.22.0)\n",
      "Collecting MarkupSafe>=2.0\n",
      "  Downloading MarkupSafe-2.1.1-cp38-cp38-win_amd64.whl (17 kB)\n",
      "Requirement already satisfied: decorator in c:\\users\\chitchat\\anaconda3\\lib\\site-packages (from jsonpath-ng<2.0,>=1.5->dataprep) (5.0.6)\n",
      "Requirement already satisfied: ply in c:\\users\\chitchat\\anaconda3\\lib\\site-packages (from jsonpath-ng<2.0,>=1.5->dataprep) (3.11)\n",
      "Requirement already satisfied: joblib in c:\\users\\chitchat\\anaconda3\\lib\\site-packages (from nltk<4.0.0,>=3.6.7->dataprep) (1.0.1)\n",
      "Requirement already satisfied: pytz>=2020.1 in c:\\users\\chitchat\\anaconda3\\lib\\site-packages (from pandas<2.0,>=1.1->dataprep) (2021.1)\n",
      "Requirement already satisfied: pyparsing>=2.1.4 in c:\\users\\chitchat\\anaconda3\\lib\\site-packages (from pydot<2.0.0,>=1.4.2->dataprep) (2.4.7)\n",
      "Collecting executing<0.9.0,>=0.8.3\n",
      "  Downloading executing-0.8.3-py2.py3-none-any.whl (16 kB)\n",
      "Collecting asttokens<3.0.0,>=2.0.0\n",
      "  Downloading asttokens-2.1.0-py2.py3-none-any.whl (26 kB)\n",
      "Collecting pure_eval<1.0.0\n",
      "  Downloading pure_eval-0.2.2-py3-none-any.whl (11 kB)\n",
      "Requirement already satisfied: matplotlib in c:\\users\\chitchat\\appdata\\roaming\\python\\python38\\site-packages (from wordcloud<2.0,>=1.8->dataprep) (3.6.0)\n",
      "Requirement already satisfied: colorama in c:\\users\\chitchat\\anaconda3\\lib\\site-packages (from click>=7.0->dask[array,dataframe,delayed]>=2022.3.0->dataprep) (0.4.4)\n",
      "Requirement already satisfied: zipp>=0.5 in c:\\users\\chitchat\\anaconda3\\lib\\site-packages (from importlib-metadata>=3.6.0->flask<3,>=2->dataprep) (3.4.1)\n",
      "Requirement already satisfied: jupyter-client in c:\\users\\chitchat\\anaconda3\\lib\\site-packages (from ipykernel>=4.5.1->ipywidgets<8.0,>=7.5->dataprep) (6.1.12)\n",
      "Requirement already satisfied: pickleshare in c:\\users\\chitchat\\anaconda3\\lib\\site-packages (from ipython>=4.0.0->ipywidgets<8.0,>=7.5->dataprep) (0.7.5)\n",
      "Requirement already satisfied: setuptools>=18.5 in c:\\users\\chitchat\\anaconda3\\lib\\site-packages (from ipython>=4.0.0->ipywidgets<8.0,>=7.5->dataprep) (52.0.0.post20210125)\n",
      "Requirement already satisfied: pygments in c:\\users\\chitchat\\anaconda3\\lib\\site-packages (from ipython>=4.0.0->ipywidgets<8.0,>=7.5->dataprep) (2.8.1)\n",
      "Requirement already satisfied: backcall in c:\\users\\chitchat\\anaconda3\\lib\\site-packages (from ipython>=4.0.0->ipywidgets<8.0,>=7.5->dataprep) (0.2.0)\n",
      "Requirement already satisfied: prompt-toolkit!=3.0.0,!=3.0.1,<3.1.0,>=2.0.0 in c:\\users\\chitchat\\anaconda3\\lib\\site-packages (from ipython>=4.0.0->ipywidgets<8.0,>=7.5->dataprep) (3.0.17)\n",
      "Requirement already satisfied: jedi>=0.16 in c:\\users\\chitchat\\anaconda3\\lib\\site-packages (from ipython>=4.0.0->ipywidgets<8.0,>=7.5->dataprep) (0.17.2)\n",
      "Requirement already satisfied: jupyter-core in c:\\users\\chitchat\\anaconda3\\lib\\site-packages (from nbformat>=4.2.0->ipywidgets<8.0,>=7.5->dataprep) (4.7.1)\n",
      "Requirement already satisfied: ipython-genutils in c:\\users\\chitchat\\anaconda3\\lib\\site-packages (from nbformat>=4.2.0->ipywidgets<8.0,>=7.5->dataprep) (0.2.0)\n",
      "Requirement already satisfied: jsonschema!=2.5.0,>=2.4 in c:\\users\\chitchat\\anaconda3\\lib\\site-packages (from nbformat>=4.2.0->ipywidgets<8.0,>=7.5->dataprep) (3.2.0)\n",
      "Requirement already satisfied: locket in c:\\users\\chitchat\\anaconda3\\lib\\site-packages\\locket-0.2.1-py3.8.egg (from partd>=0.3.10->dask[array,dataframe,delayed]>=2022.3.0->dataprep) (0.2.1)\n",
      "Requirement already satisfied: notebook>=4.4.1 in c:\\users\\chitchat\\anaconda3\\lib\\site-packages (from widgetsnbextension~=3.5.0->ipywidgets<8.0,>=7.5->dataprep) (6.3.0)\n",
      "Requirement already satisfied: idna>=2.0 in c:\\users\\chitchat\\anaconda3\\lib\\site-packages (from yarl<2.0,>=1.0->aiohttp<4.0,>=3.6->dataprep) (2.10)\n",
      "Requirement already satisfied: kiwisolver>=1.0.1 in c:\\users\\chitchat\\anaconda3\\lib\\site-packages (from matplotlib->wordcloud<2.0,>=1.8->dataprep) (1.3.1)\n",
      "Requirement already satisfied: fonttools>=4.22.0 in c:\\users\\chitchat\\anaconda3\\lib\\site-packages (from matplotlib->wordcloud<2.0,>=1.8->dataprep) (4.38.0)\n",
      "Requirement already satisfied: cycler>=0.10 in c:\\users\\chitchat\\anaconda3\\lib\\site-packages (from matplotlib->wordcloud<2.0,>=1.8->dataprep) (0.10.0)\n",
      "Requirement already satisfied: contourpy>=1.0.1 in c:\\users\\chitchat\\anaconda3\\lib\\site-packages (from matplotlib->wordcloud<2.0,>=1.8->dataprep) (1.0.6)\n",
      "Requirement already satisfied: parso<0.8.0,>=0.7.0 in c:\\users\\chitchat\\anaconda3\\lib\\site-packages (from jedi>=0.16->ipython>=4.0.0->ipywidgets<8.0,>=7.5->dataprep) (0.7.0)\n",
      "Requirement already satisfied: pyrsistent>=0.14.0 in c:\\users\\chitchat\\anaconda3\\lib\\site-packages (from jsonschema!=2.5.0,>=2.4->nbformat>=4.2.0->ipywidgets<8.0,>=7.5->dataprep) (0.17.3)\n",
      "Requirement already satisfied: Send2Trash>=1.5.0 in c:\\users\\chitchat\\anaconda3\\lib\\site-packages (from notebook>=4.4.1->widgetsnbextension~=3.5.0->ipywidgets<8.0,>=7.5->dataprep) (1.5.0)\n",
      "Requirement already satisfied: pyzmq>=17 in c:\\users\\chitchat\\anaconda3\\lib\\site-packages (from notebook>=4.4.1->widgetsnbextension~=3.5.0->ipywidgets<8.0,>=7.5->dataprep) (20.0.0)\n",
      "Requirement already satisfied: prometheus-client in c:\\users\\chitchat\\anaconda3\\lib\\site-packages (from notebook>=4.4.1->widgetsnbextension~=3.5.0->ipywidgets<8.0,>=7.5->dataprep) (0.10.1)\n",
      "Requirement already satisfied: nbconvert in c:\\users\\chitchat\\anaconda3\\lib\\site-packages (from notebook>=4.4.1->widgetsnbextension~=3.5.0->ipywidgets<8.0,>=7.5->dataprep) (6.0.7)\n",
      "Requirement already satisfied: terminado>=0.8.3 in c:\\users\\chitchat\\anaconda3\\lib\\site-packages (from notebook>=4.4.1->widgetsnbextension~=3.5.0->ipywidgets<8.0,>=7.5->dataprep) (0.9.4)\n",
      "Requirement already satisfied: argon2-cffi in c:\\users\\chitchat\\anaconda3\\lib\\site-packages (from notebook>=4.4.1->widgetsnbextension~=3.5.0->ipywidgets<8.0,>=7.5->dataprep) (20.1.0)\n",
      "Requirement already satisfied: pywin32>=1.0 in c:\\users\\chitchat\\anaconda3\\lib\\site-packages (from jupyter-core->nbformat>=4.2.0->ipywidgets<8.0,>=7.5->dataprep) (227)\n",
      "Requirement already satisfied: wcwidth in c:\\users\\chitchat\\anaconda3\\lib\\site-packages (from prompt-toolkit!=3.0.0,!=3.0.1,<3.1.0,>=2.0.0->ipython>=4.0.0->ipywidgets<8.0,>=7.5->dataprep) (0.2.5)\n",
      "Requirement already satisfied: pywinpty>=0.5 in c:\\users\\chitchat\\anaconda3\\lib\\site-packages (from terminado>=0.8.3->notebook>=4.4.1->widgetsnbextension~=3.5.0->ipywidgets<8.0,>=7.5->dataprep) (0.5.7)\n",
      "Requirement already satisfied: cffi>=1.0.0 in c:\\users\\chitchat\\anaconda3\\lib\\site-packages (from argon2-cffi->notebook>=4.4.1->widgetsnbextension~=3.5.0->ipywidgets<8.0,>=7.5->dataprep) (1.14.5)\n",
      "Requirement already satisfied: defusedxml in c:\\users\\chitchat\\anaconda3\\lib\\site-packages (from nbconvert->notebook>=4.4.1->widgetsnbextension~=3.5.0->ipywidgets<8.0,>=7.5->dataprep) (0.7.1)\n",
      "Requirement already satisfied: bleach in c:\\users\\chitchat\\anaconda3\\lib\\site-packages (from nbconvert->notebook>=4.4.1->widgetsnbextension~=3.5.0->ipywidgets<8.0,>=7.5->dataprep) (3.3.0)\n",
      "Requirement already satisfied: pandocfilters>=1.4.1 in c:\\users\\chitchat\\anaconda3\\lib\\site-packages (from nbconvert->notebook>=4.4.1->widgetsnbextension~=3.5.0->ipywidgets<8.0,>=7.5->dataprep) (1.4.3)\n",
      "Requirement already satisfied: jupyterlab-pygments in c:\\users\\chitchat\\anaconda3\\lib\\site-packages (from nbconvert->notebook>=4.4.1->widgetsnbextension~=3.5.0->ipywidgets<8.0,>=7.5->dataprep) (0.1.2)\n",
      "Requirement already satisfied: entrypoints>=0.2.2 in c:\\users\\chitchat\\anaconda3\\lib\\site-packages (from nbconvert->notebook>=4.4.1->widgetsnbextension~=3.5.0->ipywidgets<8.0,>=7.5->dataprep) (0.3)\n",
      "Requirement already satisfied: testpath in c:\\users\\chitchat\\anaconda3\\lib\\site-packages (from nbconvert->notebook>=4.4.1->widgetsnbextension~=3.5.0->ipywidgets<8.0,>=7.5->dataprep) (0.4.4)\n",
      "Requirement already satisfied: nbclient<0.6.0,>=0.5.0 in c:\\users\\chitchat\\anaconda3\\lib\\site-packages (from nbconvert->notebook>=4.4.1->widgetsnbextension~=3.5.0->ipywidgets<8.0,>=7.5->dataprep) (0.5.3)\n",
      "Requirement already satisfied: mistune<2,>=0.8.1 in c:\\users\\chitchat\\anaconda3\\lib\\site-packages (from nbconvert->notebook>=4.4.1->widgetsnbextension~=3.5.0->ipywidgets<8.0,>=7.5->dataprep) (0.8.4)\n",
      "Requirement already satisfied: pycparser in c:\\users\\chitchat\\anaconda3\\lib\\site-packages (from cffi>=1.0.0->argon2-cffi->notebook>=4.4.1->widgetsnbextension~=3.5.0->ipywidgets<8.0,>=7.5->dataprep) (2.20)\n",
      "Requirement already satisfied: nest-asyncio in c:\\users\\chitchat\\anaconda3\\lib\\site-packages (from nbclient<0.6.0,>=0.5.0->nbconvert->notebook>=4.4.1->widgetsnbextension~=3.5.0->ipywidgets<8.0,>=7.5->dataprep) (1.5.1)\n",
      "Requirement already satisfied: async-generator in c:\\users\\chitchat\\anaconda3\\lib\\site-packages (from nbclient<0.6.0,>=0.5.0->nbconvert->notebook>=4.4.1->widgetsnbextension~=3.5.0->ipywidgets<8.0,>=7.5->dataprep) (1.10)\n",
      "Requirement already satisfied: webencodings in c:\\users\\chitchat\\anaconda3\\lib\\site-packages (from bleach->nbconvert->notebook>=4.4.1->widgetsnbextension~=3.5.0->ipywidgets<8.0,>=7.5->dataprep) (0.5.1)\n",
      "Building wheels for collected packages: metaphone\n",
      "  Building wheel for metaphone (setup.py): started\n",
      "  Building wheel for metaphone (setup.py): finished with status 'done'\n",
      "  Created wheel for metaphone: filename=Metaphone-0.6-py3-none-any.whl size=13905 sha256=83d685b7a4613808f8a1a01263e1c54c63710733f5e0ce1c891a7622a6ca0d79\n",
      "  Stored in directory: c:\\users\\chitchat\\appdata\\local\\pip\\cache\\wheels\\f4\\f0\\c9\\e13b5428658c0fdc28714b8f2e34468a615a041204e81045aa\n",
      "Successfully built metaphone\n",
      "Installing collected packages: regex, python-stdnum, python-crfsuite, pure_eval, metaphone, executing, sqlalchemy, scipy, rapidfuzz, pydot, multidict, MarkupSafe, jsonpath-ng, itsdangerous, frozenlist, click, charset-normalizer, async-timeout, asttokens, yarl, Werkzeug, varname, nltk, jinja2, dask, aiosignal, wordcloud, flask, aiohttp, flask_cors, dataprep\n",
      "  Attempting uninstall: regex\n",
      "    Found existing installation: regex 2021.4.4\n",
      "    Uninstalling regex-2021.4.4:\n",
      "      Successfully uninstalled regex-2021.4.4\n",
      "  Attempting uninstall: sqlalchemy\n",
      "    Found existing installation: SQLAlchemy 1.4.7\n",
      "    Uninstalling SQLAlchemy-1.4.7:\n",
      "      Successfully uninstalled SQLAlchemy-1.4.7\n",
      "  Attempting uninstall: scipy\n",
      "    Found existing installation: scipy 1.6.2\n",
      "    Uninstalling scipy-1.6.2:\n",
      "      Successfully uninstalled scipy-1.6.2\n"
     ]
    }
   ],
   "source": [
    "!pip install dataprep"
   ]
  },
  {
   "cell_type": "code",
   "execution_count": 40,
   "id": "fd0c4f81",
   "metadata": {},
   "outputs": [
    {
     "ename": "ModuleNotFoundError",
     "evalue": "No module named 'dataprep'",
     "output_type": "error",
     "traceback": [
      "\u001b[1;31m---------------------------------------------------------------------------\u001b[0m",
      "\u001b[1;31mModuleNotFoundError\u001b[0m                       Traceback (most recent call last)",
      "\u001b[1;32m<ipython-input-40-f2277a311536>\u001b[0m in \u001b[0;36m<module>\u001b[1;34m\u001b[0m\n\u001b[1;32m----> 1\u001b[1;33m \u001b[1;32mfrom\u001b[0m \u001b[0mdataprep\u001b[0m\u001b[1;33m.\u001b[0m\u001b[0meda\u001b[0m \u001b[1;32mimport\u001b[0m \u001b[0mcreate_report\u001b[0m\u001b[1;33m\u001b[0m\u001b[1;33m\u001b[0m\u001b[0m\n\u001b[0m\u001b[0;32m      2\u001b[0m \u001b[0mcreate_report\u001b[0m\u001b[1;33m(\u001b[0m\u001b[0mdf\u001b[0m\u001b[1;33m)\u001b[0m\u001b[1;33m\u001b[0m\u001b[1;33m\u001b[0m\u001b[0m\n",
      "\u001b[1;31mModuleNotFoundError\u001b[0m: No module named 'dataprep'"
     ]
    }
   ],
   "source": [
    "from dataprep.eda import create_report\n",
    "create_report(df)"
   ]
  },
  {
   "cell_type": "markdown",
   "id": "f535f11d",
   "metadata": {},
   "source": [
    "### 5. LUX"
   ]
  },
  {
   "cell_type": "code",
   "execution_count": 41,
   "id": "3549ceb8",
   "metadata": {},
   "outputs": [
    {
     "name": "stdout",
     "output_type": "stream",
     "text": [
      "Collecting lux\n",
      "  Downloading lux-0.5.1.tar.gz (14 kB)\n",
      "  Preparing metadata (setup.py): started\n",
      "  Preparing metadata (setup.py): finished with status 'done'\n",
      "Collecting lux-api\n",
      "  Downloading lux-api-0.5.1.tar.gz (127 kB)\n",
      "     ------------------------------------ 127.0/127.0 kB 678.9 kB/s eta 0:00:00\n",
      "  Installing build dependencies: started\n",
      "  Installing build dependencies: finished with status 'done'\n",
      "  Getting requirements to build wheel: started\n",
      "  Getting requirements to build wheel: finished with status 'done'\n",
      "  Preparing metadata (pyproject.toml): started\n",
      "  Preparing metadata (pyproject.toml): finished with status 'done'\n",
      "Collecting lux-widget\n",
      "  Downloading lux-widget-0.1.11.tar.gz (2.5 MB)\n",
      "     ---------------------------------------- 2.5/2.5 MB 1.5 MB/s eta 0:00:00\n",
      "  Preparing metadata (setup.py): started\n",
      "  Preparing metadata (setup.py): finished with status 'done'\n",
      "Requirement already satisfied: scikit-learn>=0.22 in c:\\users\\chitchat\\anaconda3\\lib\\site-packages (from lux-api->lux) (0.24.1)\n",
      "Requirement already satisfied: numpy>=1.16.5 in c:\\users\\chitchat\\anaconda3\\lib\\site-packages (from lux-api->lux) (1.22.4)\n",
      "Collecting sh\n",
      "  Downloading sh-1.14.3.tar.gz (62 kB)\n",
      "     -------------------------------------- 62.9/62.9 kB 305.9 kB/s eta 0:00:00"
     ]
    },
    {
     "name": "stderr",
     "output_type": "stream",
     "text": [
      "WARNING: Ignoring invalid distribution -atplotlib (c:\\users\\chitchat\\anaconda3\\lib\\site-packages)\n",
      "WARNING: Ignoring invalid distribution -atplotlib (c:\\users\\chitchat\\anaconda3\\lib\\site-packages)\n",
      "  error: subprocess-exited-with-error\n",
      "  \n",
      "  python setup.py egg_info did not run successfully.\n",
      "  exit code: 1\n",
      "  \n",
      "  [8 lines of output]\n",
      "  Traceback (most recent call last):\n",
      "    File \"<string>\", line 2, in <module>\n",
      "    File \"<pip-setuptools-caller>\", line 34, in <module>\n",
      "    File \"C:\\Users\\CHITCHAT\\AppData\\Local\\Temp\\pip-install-_1gzwsj3\\sh_558963eeca3244fb9ff0048638fbff52\\setup.py\", line 5, in <module>\n",
      "      import sh\n",
      "    File \"C:\\Users\\CHITCHAT\\AppData\\Local\\Temp\\pip-install-_1gzwsj3\\sh_558963eeca3244fb9ff0048638fbff52\\sh.py\", line 37, in <module>\n",
      "      import fcntl\n",
      "  ModuleNotFoundError: No module named 'fcntl'\n",
      "  [end of output]\n",
      "  \n",
      "  note: This error originates from a subprocess, and is likely not a problem with pip.\n",
      "error: metadata-generation-failed\n",
      "\n",
      "Encountered error while generating package metadata.\n",
      "\n",
      "See above for output.\n",
      "\n",
      "note: This is an issue with the package mentioned above, not pip.\n",
      "hint: See above for details.\n",
      "WARNING: Ignoring invalid distribution -atplotlib (c:\\users\\chitchat\\anaconda3\\lib\\site-packages)\n",
      "WARNING: Ignoring invalid distribution -atplotlib (c:\\users\\chitchat\\anaconda3\\lib\\site-packages)\n",
      "WARNING: Ignoring invalid distribution -atplotlib (c:\\users\\chitchat\\anaconda3\\lib\\site-packages)\n"
     ]
    },
    {
     "name": "stdout",
     "output_type": "stream",
     "text": [
      "\n",
      "  Preparing metadata (setup.py): started\n",
      "  Preparing metadata (setup.py): finished with status 'error'\n"
     ]
    }
   ],
   "source": [
    "!pip install lux"
   ]
  },
  {
   "cell_type": "code",
   "execution_count": null,
   "id": "71caae19",
   "metadata": {},
   "outputs": [],
   "source": [
    "import lux\n",
    "lux.logger=True"
   ]
  }
 ],
 "metadata": {
  "kernelspec": {
   "display_name": "Python 3",
   "language": "python",
   "name": "python3"
  },
  "language_info": {
   "codemirror_mode": {
    "name": "ipython",
    "version": 3
   },
   "file_extension": ".py",
   "mimetype": "text/x-python",
   "name": "python",
   "nbconvert_exporter": "python",
   "pygments_lexer": "ipython3",
   "version": "3.8.8"
  }
 },
 "nbformat": 4,
 "nbformat_minor": 5
}
